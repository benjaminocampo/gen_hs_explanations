{
 "cells": [
  {
   "cell_type": "code",
   "execution_count": 2,
   "id": "310d2e73-7635-47f4-a3fd-90dec500e824",
   "metadata": {
    "tags": []
   },
   "outputs": [
    {
     "name": "stdout",
     "output_type": "stream",
     "text": [
      "Requirement already satisfied: transformers in /Users/greta/anaconda3/lib/python3.11/site-packages (4.29.2)\n",
      "Requirement already satisfied: filelock in /Users/greta/anaconda3/lib/python3.11/site-packages (from transformers) (3.9.0)\n",
      "Requirement already satisfied: huggingface-hub<1.0,>=0.14.1 in /Users/greta/anaconda3/lib/python3.11/site-packages (from transformers) (0.15.1)\n",
      "Requirement already satisfied: numpy>=1.17 in /Users/greta/anaconda3/lib/python3.11/site-packages (from transformers) (1.24.3)\n",
      "Requirement already satisfied: packaging>=20.0 in /Users/greta/anaconda3/lib/python3.11/site-packages (from transformers) (23.0)\n",
      "Requirement already satisfied: pyyaml>=5.1 in /Users/greta/anaconda3/lib/python3.11/site-packages (from transformers) (6.0)\n",
      "Requirement already satisfied: regex!=2019.12.17 in /Users/greta/anaconda3/lib/python3.11/site-packages (from transformers) (2022.7.9)\n",
      "Requirement already satisfied: requests in /Users/greta/anaconda3/lib/python3.11/site-packages (from transformers) (2.31.0)\n",
      "Requirement already satisfied: tokenizers!=0.11.3,<0.14,>=0.11.1 in /Users/greta/anaconda3/lib/python3.11/site-packages (from transformers) (0.13.2)\n",
      "Requirement already satisfied: tqdm>=4.27 in /Users/greta/anaconda3/lib/python3.11/site-packages (from transformers) (4.65.0)\n",
      "Requirement already satisfied: fsspec in /Users/greta/anaconda3/lib/python3.11/site-packages (from huggingface-hub<1.0,>=0.14.1->transformers) (2023.4.0)\n",
      "Requirement already satisfied: typing-extensions>=3.7.4.3 in /Users/greta/anaconda3/lib/python3.11/site-packages (from huggingface-hub<1.0,>=0.14.1->transformers) (4.7.1)\n",
      "Requirement already satisfied: charset-normalizer<4,>=2 in /Users/greta/anaconda3/lib/python3.11/site-packages (from requests->transformers) (2.0.4)\n",
      "Requirement already satisfied: idna<4,>=2.5 in /Users/greta/anaconda3/lib/python3.11/site-packages (from requests->transformers) (3.4)\n",
      "Requirement already satisfied: urllib3<3,>=1.21.1 in /Users/greta/anaconda3/lib/python3.11/site-packages (from requests->transformers) (1.26.16)\n",
      "Requirement already satisfied: certifi>=2017.4.17 in /Users/greta/anaconda3/lib/python3.11/site-packages (from requests->transformers) (2023.7.22)\n",
      "Requirement already satisfied: torch in /Users/greta/anaconda3/lib/python3.11/site-packages (2.0.1)\n",
      "Requirement already satisfied: filelock in /Users/greta/anaconda3/lib/python3.11/site-packages (from torch) (3.9.0)\n",
      "Requirement already satisfied: typing-extensions in /Users/greta/anaconda3/lib/python3.11/site-packages (from torch) (4.7.1)\n",
      "Requirement already satisfied: sympy in /Users/greta/anaconda3/lib/python3.11/site-packages (from torch) (1.11.1)\n",
      "Requirement already satisfied: networkx in /Users/greta/anaconda3/lib/python3.11/site-packages (from torch) (3.1)\n",
      "Requirement already satisfied: jinja2 in /Users/greta/anaconda3/lib/python3.11/site-packages (from torch) (3.1.2)\n",
      "Requirement already satisfied: MarkupSafe>=2.0 in /Users/greta/anaconda3/lib/python3.11/site-packages (from jinja2->torch) (2.1.1)\n",
      "Requirement already satisfied: mpmath>=0.19 in /Users/greta/anaconda3/lib/python3.11/site-packages (from sympy->torch) (1.3.0)\n",
      "Requirement already satisfied: bert-score in /Users/greta/anaconda3/lib/python3.11/site-packages (0.3.13)\n",
      "Requirement already satisfied: torch>=1.0.0 in /Users/greta/anaconda3/lib/python3.11/site-packages (from bert-score) (2.0.1)\n",
      "Requirement already satisfied: pandas>=1.0.1 in /Users/greta/anaconda3/lib/python3.11/site-packages (from bert-score) (1.5.3)\n",
      "Requirement already satisfied: transformers>=3.0.0 in /Users/greta/anaconda3/lib/python3.11/site-packages (from bert-score) (4.29.2)\n",
      "Requirement already satisfied: numpy in /Users/greta/anaconda3/lib/python3.11/site-packages (from bert-score) (1.24.3)\n",
      "Requirement already satisfied: requests in /Users/greta/anaconda3/lib/python3.11/site-packages (from bert-score) (2.31.0)\n",
      "Requirement already satisfied: tqdm>=4.31.1 in /Users/greta/anaconda3/lib/python3.11/site-packages (from bert-score) (4.65.0)\n",
      "Requirement already satisfied: matplotlib in /Users/greta/anaconda3/lib/python3.11/site-packages (from bert-score) (3.7.1)\n",
      "Requirement already satisfied: packaging>=20.9 in /Users/greta/anaconda3/lib/python3.11/site-packages (from bert-score) (23.0)\n",
      "Requirement already satisfied: python-dateutil>=2.8.1 in /Users/greta/anaconda3/lib/python3.11/site-packages (from pandas>=1.0.1->bert-score) (2.8.2)\n",
      "Requirement already satisfied: pytz>=2020.1 in /Users/greta/anaconda3/lib/python3.11/site-packages (from pandas>=1.0.1->bert-score) (2022.7)\n",
      "Requirement already satisfied: filelock in /Users/greta/anaconda3/lib/python3.11/site-packages (from torch>=1.0.0->bert-score) (3.9.0)\n",
      "Requirement already satisfied: typing-extensions in /Users/greta/anaconda3/lib/python3.11/site-packages (from torch>=1.0.0->bert-score) (4.7.1)\n",
      "Requirement already satisfied: sympy in /Users/greta/anaconda3/lib/python3.11/site-packages (from torch>=1.0.0->bert-score) (1.11.1)\n",
      "Requirement already satisfied: networkx in /Users/greta/anaconda3/lib/python3.11/site-packages (from torch>=1.0.0->bert-score) (3.1)\n",
      "Requirement already satisfied: jinja2 in /Users/greta/anaconda3/lib/python3.11/site-packages (from torch>=1.0.0->bert-score) (3.1.2)\n",
      "Requirement already satisfied: huggingface-hub<1.0,>=0.14.1 in /Users/greta/anaconda3/lib/python3.11/site-packages (from transformers>=3.0.0->bert-score) (0.15.1)\n",
      "Requirement already satisfied: pyyaml>=5.1 in /Users/greta/anaconda3/lib/python3.11/site-packages (from transformers>=3.0.0->bert-score) (6.0)\n",
      "Requirement already satisfied: regex!=2019.12.17 in /Users/greta/anaconda3/lib/python3.11/site-packages (from transformers>=3.0.0->bert-score) (2022.7.9)\n",
      "Requirement already satisfied: tokenizers!=0.11.3,<0.14,>=0.11.1 in /Users/greta/anaconda3/lib/python3.11/site-packages (from transformers>=3.0.0->bert-score) (0.13.2)\n",
      "Requirement already satisfied: contourpy>=1.0.1 in /Users/greta/anaconda3/lib/python3.11/site-packages (from matplotlib->bert-score) (1.0.5)\n",
      "Requirement already satisfied: cycler>=0.10 in /Users/greta/anaconda3/lib/python3.11/site-packages (from matplotlib->bert-score) (0.11.0)\n",
      "Requirement already satisfied: fonttools>=4.22.0 in /Users/greta/anaconda3/lib/python3.11/site-packages (from matplotlib->bert-score) (4.25.0)\n",
      "Requirement already satisfied: kiwisolver>=1.0.1 in /Users/greta/anaconda3/lib/python3.11/site-packages (from matplotlib->bert-score) (1.4.4)\n",
      "Requirement already satisfied: pillow>=6.2.0 in /Users/greta/anaconda3/lib/python3.11/site-packages (from matplotlib->bert-score) (9.4.0)\n",
      "Requirement already satisfied: pyparsing>=2.3.1 in /Users/greta/anaconda3/lib/python3.11/site-packages (from matplotlib->bert-score) (3.0.9)\n",
      "Requirement already satisfied: charset-normalizer<4,>=2 in /Users/greta/anaconda3/lib/python3.11/site-packages (from requests->bert-score) (2.0.4)\n",
      "Requirement already satisfied: idna<4,>=2.5 in /Users/greta/anaconda3/lib/python3.11/site-packages (from requests->bert-score) (3.4)\n",
      "Requirement already satisfied: urllib3<3,>=1.21.1 in /Users/greta/anaconda3/lib/python3.11/site-packages (from requests->bert-score) (1.26.16)\n",
      "Requirement already satisfied: certifi>=2017.4.17 in /Users/greta/anaconda3/lib/python3.11/site-packages (from requests->bert-score) (2023.7.22)\n",
      "Requirement already satisfied: fsspec in /Users/greta/anaconda3/lib/python3.11/site-packages (from huggingface-hub<1.0,>=0.14.1->transformers>=3.0.0->bert-score) (2023.4.0)\n",
      "Requirement already satisfied: six>=1.5 in /Users/greta/anaconda3/lib/python3.11/site-packages (from python-dateutil>=2.8.1->pandas>=1.0.1->bert-score) (1.16.0)\n",
      "Requirement already satisfied: MarkupSafe>=2.0 in /Users/greta/anaconda3/lib/python3.11/site-packages (from jinja2->torch>=1.0.0->bert-score) (2.1.1)\n",
      "Requirement already satisfied: mpmath>=0.19 in /Users/greta/anaconda3/lib/python3.11/site-packages (from sympy->torch>=1.0.0->bert-score) (1.3.0)\n"
     ]
    }
   ],
   "source": [
    "!pip install transformers\n",
    "!pip install git+https://github.com/google-research/bleurt.git"
   ]
  },
  {
   "cell_type": "code",
   "execution_count": 14,
   "id": "05693a53-2fcf-4a27-8461-6d626536ccf5",
   "metadata": {
    "tags": []
   },
   "outputs": [],
   "source": [
    "import numpy as np\n",
    "import pandas as pd\n",
    "from bleurt import score\n",
    "from evaluate import load"
   ]
  },
  {
   "cell_type": "code",
   "execution_count": 160,
   "id": "4035be91-acd0-4f5b-942d-414802ba2a9f",
   "metadata": {
    "tags": []
   },
   "outputs": [],
   "source": [
    "d=pd.read_csv(\"gpt4_gold_exps.csv\")"
   ]
  },
  {
   "cell_type": "code",
   "execution_count": 161,
   "id": "0dc4cbd3-fd42-49ce-9d2e-c20872a4fb84",
   "metadata": {},
   "outputs": [],
   "source": [
    "d[\"pred_exps\"] = d[\"pred_exps\"].fillna(\"nopred\")\n",
    "d[\"gold_exps\"] = d[\"gold_exps\"].fillna(\"nogold\")\n",
    "\n",
    "references=d['gold_exps'].tolist()\n",
    "candidates=d['pred_exps'].tolist()"
   ]
  },
  {
   "cell_type": "code",
   "execution_count": 162,
   "id": "97517755-be18-4eb7-92e5-8649a4545c11",
   "metadata": {
    "tags": []
   },
   "outputs": [
    {
     "name": "stdout",
     "output_type": "stream",
     "text": [
      "INFO:tensorflow:No checkpoint specified, defaulting to BLEURT-tiny.\n"
     ]
    },
    {
     "name": "stderr",
     "output_type": "stream",
     "text": [
      "INFO:tensorflow:No checkpoint specified, defaulting to BLEURT-tiny.\n"
     ]
    },
    {
     "name": "stdout",
     "output_type": "stream",
     "text": [
      "INFO:tensorflow:Reading checkpoint /Users/greta/anaconda3/lib/python3.11/site-packages/bleurt/test_checkpoint.\n"
     ]
    },
    {
     "name": "stderr",
     "output_type": "stream",
     "text": [
      "INFO:tensorflow:Reading checkpoint /Users/greta/anaconda3/lib/python3.11/site-packages/bleurt/test_checkpoint.\n"
     ]
    },
    {
     "name": "stdout",
     "output_type": "stream",
     "text": [
      "INFO:tensorflow:Config file found, reading.\n"
     ]
    },
    {
     "name": "stderr",
     "output_type": "stream",
     "text": [
      "INFO:tensorflow:Config file found, reading.\n"
     ]
    },
    {
     "name": "stdout",
     "output_type": "stream",
     "text": [
      "INFO:tensorflow:Will load checkpoint dbleurt_tiny\n"
     ]
    },
    {
     "name": "stderr",
     "output_type": "stream",
     "text": [
      "INFO:tensorflow:Will load checkpoint dbleurt_tiny\n"
     ]
    },
    {
     "name": "stdout",
     "output_type": "stream",
     "text": [
      "INFO:tensorflow:Loads full paths and checks that files exists.\n"
     ]
    },
    {
     "name": "stderr",
     "output_type": "stream",
     "text": [
      "INFO:tensorflow:Loads full paths and checks that files exists.\n"
     ]
    },
    {
     "name": "stdout",
     "output_type": "stream",
     "text": [
      "INFO:tensorflow:... name:dbleurt_tiny\n"
     ]
    },
    {
     "name": "stderr",
     "output_type": "stream",
     "text": [
      "INFO:tensorflow:... name:dbleurt_tiny\n"
     ]
    },
    {
     "name": "stdout",
     "output_type": "stream",
     "text": [
      "INFO:tensorflow:... vocab_file:vocab.txt\n"
     ]
    },
    {
     "name": "stderr",
     "output_type": "stream",
     "text": [
      "INFO:tensorflow:... vocab_file:vocab.txt\n"
     ]
    },
    {
     "name": "stdout",
     "output_type": "stream",
     "text": [
      "INFO:tensorflow:... bert_config_file:bert_config.json\n"
     ]
    },
    {
     "name": "stderr",
     "output_type": "stream",
     "text": [
      "INFO:tensorflow:... bert_config_file:bert_config.json\n"
     ]
    },
    {
     "name": "stdout",
     "output_type": "stream",
     "text": [
      "INFO:tensorflow:... do_lower_case:True\n"
     ]
    },
    {
     "name": "stderr",
     "output_type": "stream",
     "text": [
      "INFO:tensorflow:... do_lower_case:True\n"
     ]
    },
    {
     "name": "stdout",
     "output_type": "stream",
     "text": [
      "INFO:tensorflow:... max_seq_length:512\n"
     ]
    },
    {
     "name": "stderr",
     "output_type": "stream",
     "text": [
      "INFO:tensorflow:... max_seq_length:512\n"
     ]
    },
    {
     "name": "stdout",
     "output_type": "stream",
     "text": [
      "INFO:tensorflow:Creating BLEURT scorer.\n"
     ]
    },
    {
     "name": "stderr",
     "output_type": "stream",
     "text": [
      "INFO:tensorflow:Creating BLEURT scorer.\n"
     ]
    },
    {
     "name": "stdout",
     "output_type": "stream",
     "text": [
      "INFO:tensorflow:Creating WordPiece tokenizer.\n"
     ]
    },
    {
     "name": "stderr",
     "output_type": "stream",
     "text": [
      "INFO:tensorflow:Creating WordPiece tokenizer.\n"
     ]
    },
    {
     "name": "stdout",
     "output_type": "stream",
     "text": [
      "INFO:tensorflow:WordPiece tokenizer instantiated.\n"
     ]
    },
    {
     "name": "stderr",
     "output_type": "stream",
     "text": [
      "INFO:tensorflow:WordPiece tokenizer instantiated.\n"
     ]
    },
    {
     "name": "stdout",
     "output_type": "stream",
     "text": [
      "INFO:tensorflow:Creating Eager Mode predictor.\n"
     ]
    },
    {
     "name": "stderr",
     "output_type": "stream",
     "text": [
      "INFO:tensorflow:Creating Eager Mode predictor.\n"
     ]
    },
    {
     "name": "stdout",
     "output_type": "stream",
     "text": [
      "INFO:tensorflow:Loading model.\n"
     ]
    },
    {
     "name": "stderr",
     "output_type": "stream",
     "text": [
      "INFO:tensorflow:Loading model.\n"
     ]
    },
    {
     "name": "stdout",
     "output_type": "stream",
     "text": [
      "INFO:tensorflow:BLEURT initialized.\n"
     ]
    },
    {
     "name": "stderr",
     "output_type": "stream",
     "text": [
      "INFO:tensorflow:BLEURT initialized.\n"
     ]
    }
   ],
   "source": [
    "#checkpoint = \"bleurt-base-128\"\n",
    "\n",
    "scorer = score.BleurtScorer()\n",
    "scores = scorer.score(references=references, candidates=candidates)\n",
    "#assert isinstance(scores, list) and len(scores) == 1\n",
    "#print(scores)"
   ]
  },
  {
   "cell_type": "code",
   "execution_count": 163,
   "id": "bce87856-928f-456b-8057-021bf6aadf0f",
   "metadata": {
    "tags": []
   },
   "outputs": [
    {
     "data": {
      "text/plain": [
       "-0.0713034902330277"
      ]
     },
     "execution_count": 163,
     "metadata": {},
     "output_type": "execute_result"
    }
   ],
   "source": [
    "def average(lst):\n",
    "    return sum(lst) / len(lst)\n",
    "\n",
    "avg = average(scores)\n",
    "avg"
   ]
  },
  {
   "cell_type": "code",
   "execution_count": 164,
   "id": "2172ad97-8f48-446b-8e77-16973b0eca15",
   "metadata": {
    "tags": []
   },
   "outputs": [],
   "source": [
    "d['bleurt'] = scores"
   ]
  },
  {
   "cell_type": "code",
   "execution_count": 165,
   "id": "059b76ce-cc59-4e92-90c1-6755144b8015",
   "metadata": {
    "tags": []
   },
   "outputs": [
    {
     "name": "stderr",
     "output_type": "stream",
     "text": [
      "/var/folders/8n/y42d4kpd5hn9kbrl5x13jqsw0000gn/T/ipykernel_95519/319878011.py:1: FutureWarning: The default value of numeric_only in DataFrameGroupBy.mean is deprecated. In a future version, numeric_only will default to False. Either specify numeric_only or select only columns which should be valid for the function.\n",
      "  d.groupby('functionality').mean()\n"
     ]
    },
    {
     "data": {
      "text/html": [
       "<div>\n",
       "<style scoped>\n",
       "    .dataframe tbody tr th:only-of-type {\n",
       "        vertical-align: middle;\n",
       "    }\n",
       "\n",
       "    .dataframe tbody tr th {\n",
       "        vertical-align: top;\n",
       "    }\n",
       "\n",
       "    .dataframe thead th {\n",
       "        text-align: right;\n",
       "    }\n",
       "</style>\n",
       "<table border=\"1\" class=\"dataframe\">\n",
       "  <thead>\n",
       "    <tr style=\"text-align: right;\">\n",
       "      <th></th>\n",
       "      <th>Unnamed: 0</th>\n",
       "      <th>case_id</th>\n",
       "      <th>ref_case_id</th>\n",
       "      <th>ref_templ_id</th>\n",
       "      <th>templ_id</th>\n",
       "      <th>params_temperature</th>\n",
       "      <th>bleurt</th>\n",
       "    </tr>\n",
       "    <tr>\n",
       "      <th>functionality</th>\n",
       "      <th></th>\n",
       "      <th></th>\n",
       "      <th></th>\n",
       "      <th></th>\n",
       "      <th></th>\n",
       "      <th></th>\n",
       "      <th></th>\n",
       "    </tr>\n",
       "  </thead>\n",
       "  <tbody>\n",
       "    <tr>\n",
       "      <th>abuse targeted at individuals (not as member of a protected group</th>\n",
       "      <td>2873.0</td>\n",
       "      <td>3005.000000</td>\n",
       "      <td>NaN</td>\n",
       "      <td>82.738462</td>\n",
       "      <td>669.000000</td>\n",
       "      <td>0.5</td>\n",
       "      <td>-0.154689</td>\n",
       "    </tr>\n",
       "    <tr>\n",
       "      <th>abuse targeted at non protected groups (e.g. professions)</th>\n",
       "      <td>2936.5</td>\n",
       "      <td>3069.209677</td>\n",
       "      <td>NaN</td>\n",
       "      <td>69.854839</td>\n",
       "      <td>733.209677</td>\n",
       "      <td>0.5</td>\n",
       "      <td>-0.316198</td>\n",
       "    </tr>\n",
       "    <tr>\n",
       "      <th>abuse targeted at objects</th>\n",
       "      <td>2808.0</td>\n",
       "      <td>2940.000000</td>\n",
       "      <td>NaN</td>\n",
       "      <td>87.615385</td>\n",
       "      <td>604.000000</td>\n",
       "      <td>0.5</td>\n",
       "      <td>-0.376461</td>\n",
       "    </tr>\n",
       "    <tr>\n",
       "      <th>dehumanisation (explicit)</th>\n",
       "      <td>349.5</td>\n",
       "      <td>350.500000</td>\n",
       "      <td>NaN</td>\n",
       "      <td>NaN</td>\n",
       "      <td>50.500000</td>\n",
       "      <td>0.5</td>\n",
       "      <td>-0.046212</td>\n",
       "    </tr>\n",
       "    <tr>\n",
       "      <th>denouncements of hate that make direct reference to it</th>\n",
       "      <td>2705.0</td>\n",
       "      <td>2815.638298</td>\n",
       "      <td>476.600000</td>\n",
       "      <td>84.400000</td>\n",
       "      <td>561.787234</td>\n",
       "      <td>0.5</td>\n",
       "      <td>-0.084212</td>\n",
       "    </tr>\n",
       "    <tr>\n",
       "      <th>denouncements of hate that quote it</th>\n",
       "      <td>2548.0</td>\n",
       "      <td>2648.000000</td>\n",
       "      <td>652.127168</td>\n",
       "      <td>100.369942</td>\n",
       "      <td>542.549133</td>\n",
       "      <td>0.5</td>\n",
       "      <td>-0.006923</td>\n",
       "    </tr>\n",
       "    <tr>\n",
       "      <th>description using very negative attributes (explicit)</th>\n",
       "      <td>209.5</td>\n",
       "      <td>210.500000</td>\n",
       "      <td>NaN</td>\n",
       "      <td>NaN</td>\n",
       "      <td>30.500000</td>\n",
       "      <td>0.5</td>\n",
       "      <td>-0.026312</td>\n",
       "    </tr>\n",
       "    <tr>\n",
       "      <th>direct threat</th>\n",
       "      <td>626.0</td>\n",
       "      <td>630.684211</td>\n",
       "      <td>NaN</td>\n",
       "      <td>NaN</td>\n",
       "      <td>90.526316</td>\n",
       "      <td>0.5</td>\n",
       "      <td>0.141798</td>\n",
       "    </tr>\n",
       "    <tr>\n",
       "      <th>expression of strong negative emotions (explicit)</th>\n",
       "      <td>69.5</td>\n",
       "      <td>70.500000</td>\n",
       "      <td>NaN</td>\n",
       "      <td>NaN</td>\n",
       "      <td>10.500000</td>\n",
       "      <td>0.5</td>\n",
       "      <td>0.082029</td>\n",
       "    </tr>\n",
       "    <tr>\n",
       "      <th>hate expressed through reference in subsequent clauses</th>\n",
       "      <td>1397.5</td>\n",
       "      <td>1441.500000</td>\n",
       "      <td>536.800000</td>\n",
       "      <td>93.000000</td>\n",
       "      <td>371.500000</td>\n",
       "      <td>0.5</td>\n",
       "      <td>-0.054370</td>\n",
       "    </tr>\n",
       "    <tr>\n",
       "      <th>hate expressed through reference in subsequent sentences</th>\n",
       "      <td>1534.0</td>\n",
       "      <td>1581.315789</td>\n",
       "      <td>548.263158</td>\n",
       "      <td>95.473684</td>\n",
       "      <td>391.473684</td>\n",
       "      <td>0.5</td>\n",
       "      <td>-0.010680</td>\n",
       "    </tr>\n",
       "    <tr>\n",
       "      <th>hate expressed using negated positive statement</th>\n",
       "      <td>1670.5</td>\n",
       "      <td>1721.500000</td>\n",
       "      <td>427.500000</td>\n",
       "      <td>61.500000</td>\n",
       "      <td>411.500000</td>\n",
       "      <td>0.5</td>\n",
       "      <td>0.015204</td>\n",
       "    </tr>\n",
       "    <tr>\n",
       "      <th>hate expressed using profanity</th>\n",
       "      <td>1157.5</td>\n",
       "      <td>1201.500000</td>\n",
       "      <td>NaN</td>\n",
       "      <td>NaN</td>\n",
       "      <td>251.500000</td>\n",
       "      <td>0.5</td>\n",
       "      <td>0.119336</td>\n",
       "    </tr>\n",
       "    <tr>\n",
       "      <th>hate expressed using slur</th>\n",
       "      <td>904.5</td>\n",
       "      <td>930.500000</td>\n",
       "      <td>NaN</td>\n",
       "      <td>NaN</td>\n",
       "      <td>125.500000</td>\n",
       "      <td>0.5</td>\n",
       "      <td>-0.052582</td>\n",
       "    </tr>\n",
       "    <tr>\n",
       "      <th>hate phrased as a question</th>\n",
       "      <td>1943.5</td>\n",
       "      <td>2001.500000</td>\n",
       "      <td>500.550000</td>\n",
       "      <td>83.850000</td>\n",
       "      <td>451.500000</td>\n",
       "      <td>0.5</td>\n",
       "      <td>0.111632</td>\n",
       "    </tr>\n",
       "    <tr>\n",
       "      <th>hate phrased as an opinion</th>\n",
       "      <td>2080.0</td>\n",
       "      <td>2142.789474</td>\n",
       "      <td>573.473684</td>\n",
       "      <td>94.894737</td>\n",
       "      <td>471.684211</td>\n",
       "      <td>0.5</td>\n",
       "      <td>0.118395</td>\n",
       "    </tr>\n",
       "    <tr>\n",
       "      <th>implicit derogation</th>\n",
       "      <td>489.5</td>\n",
       "      <td>490.500000</td>\n",
       "      <td>NaN</td>\n",
       "      <td>NaN</td>\n",
       "      <td>70.500000</td>\n",
       "      <td>0.5</td>\n",
       "      <td>-0.127747</td>\n",
       "    </tr>\n",
       "    <tr>\n",
       "      <th>neutral statements using protected group identifiers</th>\n",
       "      <td>2209.5</td>\n",
       "      <td>2286.166667</td>\n",
       "      <td>NaN</td>\n",
       "      <td>NaN</td>\n",
       "      <td>492.166667</td>\n",
       "      <td>0.5</td>\n",
       "      <td>-0.389308</td>\n",
       "    </tr>\n",
       "    <tr>\n",
       "      <th>non-hate expressed using negated hateful statement</th>\n",
       "      <td>1807.0</td>\n",
       "      <td>1863.894737</td>\n",
       "      <td>471.157895</td>\n",
       "      <td>67.736842</td>\n",
       "      <td>431.842105</td>\n",
       "      <td>0.5</td>\n",
       "      <td>-0.117096</td>\n",
       "    </tr>\n",
       "    <tr>\n",
       "      <th>non-hateful homonyms of slurs</th>\n",
       "      <td>991.5</td>\n",
       "      <td>1035.500000</td>\n",
       "      <td>NaN</td>\n",
       "      <td>NaN</td>\n",
       "      <td>145.500000</td>\n",
       "      <td>0.5</td>\n",
       "      <td>-0.530452</td>\n",
       "    </tr>\n",
       "    <tr>\n",
       "      <th>non-hateful use of profanity</th>\n",
       "      <td>1277.5</td>\n",
       "      <td>1321.500000</td>\n",
       "      <td>NaN</td>\n",
       "      <td>251.500000</td>\n",
       "      <td>311.500000</td>\n",
       "      <td>0.5</td>\n",
       "      <td>-0.426912</td>\n",
       "    </tr>\n",
       "    <tr>\n",
       "      <th>positive statements using protected group identifiers</th>\n",
       "      <td>2367.0</td>\n",
       "      <td>2453.777778</td>\n",
       "      <td>401.185185</td>\n",
       "      <td>57.740741</td>\n",
       "      <td>516.111111</td>\n",
       "      <td>0.5</td>\n",
       "      <td>-0.204101</td>\n",
       "    </tr>\n",
       "    <tr>\n",
       "      <th>reclaimed slurs</th>\n",
       "      <td>1047.0</td>\n",
       "      <td>1091.000000</td>\n",
       "      <td>NaN</td>\n",
       "      <td>NaN</td>\n",
       "      <td>201.000000</td>\n",
       "      <td>0.5</td>\n",
       "      <td>-0.359831</td>\n",
       "    </tr>\n",
       "    <tr>\n",
       "      <th>threat as normative statement</th>\n",
       "      <td>762.5</td>\n",
       "      <td>770.500000</td>\n",
       "      <td>NaN</td>\n",
       "      <td>NaN</td>\n",
       "      <td>110.500000</td>\n",
       "      <td>0.5</td>\n",
       "      <td>0.075805</td>\n",
       "    </tr>\n",
       "  </tbody>\n",
       "</table>\n",
       "</div>"
      ],
      "text/plain": [
       "                                                    Unnamed: 0      case_id  \\\n",
       "functionality                                                                 \n",
       "abuse targeted at individuals (not as member of...      2873.0  3005.000000   \n",
       "abuse targeted at non protected groups (e.g. pr...      2936.5  3069.209677   \n",
       "abuse targeted at objects                               2808.0  2940.000000   \n",
       "dehumanisation (explicit)                                349.5   350.500000   \n",
       "denouncements of hate that make direct referenc...      2705.0  2815.638298   \n",
       "denouncements of hate that quote it                     2548.0  2648.000000   \n",
       "description using very negative attributes (exp...       209.5   210.500000   \n",
       "direct threat                                            626.0   630.684211   \n",
       "expression of strong negative emotions (explicit)         69.5    70.500000   \n",
       "hate expressed through reference in subsequent ...      1397.5  1441.500000   \n",
       "hate expressed through reference in subsequent ...      1534.0  1581.315789   \n",
       "hate expressed using negated positive statement         1670.5  1721.500000   \n",
       "hate expressed using profanity                          1157.5  1201.500000   \n",
       "hate expressed using slur                                904.5   930.500000   \n",
       "hate phrased as a question                              1943.5  2001.500000   \n",
       "hate phrased as an opinion                              2080.0  2142.789474   \n",
       "implicit derogation                                      489.5   490.500000   \n",
       "neutral statements using protected group identi...      2209.5  2286.166667   \n",
       "non-hate expressed using negated hateful statement      1807.0  1863.894737   \n",
       "non-hateful homonyms of slurs                            991.5  1035.500000   \n",
       "non-hateful use of profanity                            1277.5  1321.500000   \n",
       "positive statements using protected group ident...      2367.0  2453.777778   \n",
       "reclaimed slurs                                         1047.0  1091.000000   \n",
       "threat as normative statement                            762.5   770.500000   \n",
       "\n",
       "                                                    ref_case_id  ref_templ_id  \\\n",
       "functionality                                                                   \n",
       "abuse targeted at individuals (not as member of...          NaN     82.738462   \n",
       "abuse targeted at non protected groups (e.g. pr...          NaN     69.854839   \n",
       "abuse targeted at objects                                   NaN     87.615385   \n",
       "dehumanisation (explicit)                                   NaN           NaN   \n",
       "denouncements of hate that make direct referenc...   476.600000     84.400000   \n",
       "denouncements of hate that quote it                  652.127168    100.369942   \n",
       "description using very negative attributes (exp...          NaN           NaN   \n",
       "direct threat                                               NaN           NaN   \n",
       "expression of strong negative emotions (explicit)           NaN           NaN   \n",
       "hate expressed through reference in subsequent ...   536.800000     93.000000   \n",
       "hate expressed through reference in subsequent ...   548.263158     95.473684   \n",
       "hate expressed using negated positive statement      427.500000     61.500000   \n",
       "hate expressed using profanity                              NaN           NaN   \n",
       "hate expressed using slur                                   NaN           NaN   \n",
       "hate phrased as a question                           500.550000     83.850000   \n",
       "hate phrased as an opinion                           573.473684     94.894737   \n",
       "implicit derogation                                         NaN           NaN   \n",
       "neutral statements using protected group identi...          NaN           NaN   \n",
       "non-hate expressed using negated hateful statement   471.157895     67.736842   \n",
       "non-hateful homonyms of slurs                               NaN           NaN   \n",
       "non-hateful use of profanity                                NaN    251.500000   \n",
       "positive statements using protected group ident...   401.185185     57.740741   \n",
       "reclaimed slurs                                             NaN           NaN   \n",
       "threat as normative statement                               NaN           NaN   \n",
       "\n",
       "                                                      templ_id  \\\n",
       "functionality                                                    \n",
       "abuse targeted at individuals (not as member of...  669.000000   \n",
       "abuse targeted at non protected groups (e.g. pr...  733.209677   \n",
       "abuse targeted at objects                           604.000000   \n",
       "dehumanisation (explicit)                            50.500000   \n",
       "denouncements of hate that make direct referenc...  561.787234   \n",
       "denouncements of hate that quote it                 542.549133   \n",
       "description using very negative attributes (exp...   30.500000   \n",
       "direct threat                                        90.526316   \n",
       "expression of strong negative emotions (explicit)    10.500000   \n",
       "hate expressed through reference in subsequent ...  371.500000   \n",
       "hate expressed through reference in subsequent ...  391.473684   \n",
       "hate expressed using negated positive statement     411.500000   \n",
       "hate expressed using profanity                      251.500000   \n",
       "hate expressed using slur                           125.500000   \n",
       "hate phrased as a question                          451.500000   \n",
       "hate phrased as an opinion                          471.684211   \n",
       "implicit derogation                                  70.500000   \n",
       "neutral statements using protected group identi...  492.166667   \n",
       "non-hate expressed using negated hateful statement  431.842105   \n",
       "non-hateful homonyms of slurs                       145.500000   \n",
       "non-hateful use of profanity                        311.500000   \n",
       "positive statements using protected group ident...  516.111111   \n",
       "reclaimed slurs                                     201.000000   \n",
       "threat as normative statement                       110.500000   \n",
       "\n",
       "                                                    params_temperature  \\\n",
       "functionality                                                            \n",
       "abuse targeted at individuals (not as member of...                 0.5   \n",
       "abuse targeted at non protected groups (e.g. pr...                 0.5   \n",
       "abuse targeted at objects                                          0.5   \n",
       "dehumanisation (explicit)                                          0.5   \n",
       "denouncements of hate that make direct referenc...                 0.5   \n",
       "denouncements of hate that quote it                                0.5   \n",
       "description using very negative attributes (exp...                 0.5   \n",
       "direct threat                                                      0.5   \n",
       "expression of strong negative emotions (explicit)                  0.5   \n",
       "hate expressed through reference in subsequent ...                 0.5   \n",
       "hate expressed through reference in subsequent ...                 0.5   \n",
       "hate expressed using negated positive statement                    0.5   \n",
       "hate expressed using profanity                                     0.5   \n",
       "hate expressed using slur                                          0.5   \n",
       "hate phrased as a question                                         0.5   \n",
       "hate phrased as an opinion                                         0.5   \n",
       "implicit derogation                                                0.5   \n",
       "neutral statements using protected group identi...                 0.5   \n",
       "non-hate expressed using negated hateful statement                 0.5   \n",
       "non-hateful homonyms of slurs                                      0.5   \n",
       "non-hateful use of profanity                                       0.5   \n",
       "positive statements using protected group ident...                 0.5   \n",
       "reclaimed slurs                                                    0.5   \n",
       "threat as normative statement                                      0.5   \n",
       "\n",
       "                                                      bleurt  \n",
       "functionality                                                 \n",
       "abuse targeted at individuals (not as member of... -0.154689  \n",
       "abuse targeted at non protected groups (e.g. pr... -0.316198  \n",
       "abuse targeted at objects                          -0.376461  \n",
       "dehumanisation (explicit)                          -0.046212  \n",
       "denouncements of hate that make direct referenc... -0.084212  \n",
       "denouncements of hate that quote it                -0.006923  \n",
       "description using very negative attributes (exp... -0.026312  \n",
       "direct threat                                       0.141798  \n",
       "expression of strong negative emotions (explicit)   0.082029  \n",
       "hate expressed through reference in subsequent ... -0.054370  \n",
       "hate expressed through reference in subsequent ... -0.010680  \n",
       "hate expressed using negated positive statement     0.015204  \n",
       "hate expressed using profanity                      0.119336  \n",
       "hate expressed using slur                          -0.052582  \n",
       "hate phrased as a question                          0.111632  \n",
       "hate phrased as an opinion                          0.118395  \n",
       "implicit derogation                                -0.127747  \n",
       "neutral statements using protected group identi... -0.389308  \n",
       "non-hate expressed using negated hateful statement -0.117096  \n",
       "non-hateful homonyms of slurs                      -0.530452  \n",
       "non-hateful use of profanity                       -0.426912  \n",
       "positive statements using protected group ident... -0.204101  \n",
       "reclaimed slurs                                    -0.359831  \n",
       "threat as normative statement                       0.075805  "
      ]
     },
     "execution_count": 165,
     "metadata": {},
     "output_type": "execute_result"
    }
   ],
   "source": [
    "d.groupby('functionality').mean()"
   ]
  },
  {
   "cell_type": "code",
   "execution_count": null,
   "id": "895fd94d-cd50-4d16-9418-ae3ab051d578",
   "metadata": {},
   "outputs": [],
   "source": []
  }
 ],
 "metadata": {
  "kernelspec": {
   "display_name": "Python 3 (ipykernel)",
   "language": "python",
   "name": "python3"
  },
  "language_info": {
   "codemirror_mode": {
    "name": "ipython",
    "version": 3
   },
   "file_extension": ".py",
   "mimetype": "text/x-python",
   "name": "python",
   "nbconvert_exporter": "python",
   "pygments_lexer": "ipython3",
   "version": "3.11.4"
  }
 },
 "nbformat": 4,
 "nbformat_minor": 5
}
